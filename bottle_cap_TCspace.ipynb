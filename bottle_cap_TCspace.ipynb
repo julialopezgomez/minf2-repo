{
 "cells": [
  {
   "cell_type": "markdown",
   "metadata": {},
   "source": [
    "## Imports"
   ]
  },
  {
   "cell_type": "code",
   "execution_count": 1,
   "metadata": {},
   "outputs": [],
   "source": [
    "import numpy as np\n",
    "from pydrake.multibody.plant import AddMultibodyPlantSceneGraph\n",
    "from pydrake.systems.framework import DiagramBuilder\n",
    "from pydrake.geometry import MeshcatVisualizer, StartMeshcat\n",
    "from pydrake.multibody.parsing import Parser\n",
    "from pydrake.math import RigidTransform, RotationMatrix\n",
    "from pydrake.visualization import ApplyVisualizationConfig, VisualizationConfig, AddFrameTriadIllustration"
   ]
  },
  {
   "cell_type": "markdown",
   "metadata": {},
   "source": [
    "### Scene imports"
   ]
  },
  {
   "cell_type": "code",
   "execution_count": 2,
   "metadata": {},
   "outputs": [],
   "source": [
    "from pydrake.common import FindResourceOrThrow\n",
    "from pydrake.geometry import MeshcatVisualizerParams, Role, GeometrySet, CollisionFilterDeclaration\n",
    "from pydrake.geometry.optimization import CspaceFreePolytope, SeparatingPlaneOrder\n",
    "from pydrake.multibody.rational import RationalForwardKinematics\n",
    "from ciris_plant_visualizer import CIrisPlantVisualizer\n",
    "import numpy as np\n",
    "\n",
    "from pydrake.all import (HPolyhedron, AngleAxis,\n",
    "                         VPolytope, Sphere, Ellipsoid, InverseKinematics,\n",
    "                         Hyperellipsoid, Simulator, Box)\n",
    "import mcubes\n",
    "\n",
    "import visualization_utils as viz_utils\n",
    "\n",
    "import pydrake.symbolic as sym\n",
    "from pydrake.all import  TriangleSurfaceMesh, Rgba, SurfaceTriangle, Sphere\n",
    "from scipy.linalg import null_space\n",
    "import time"
   ]
  },
  {
   "cell_type": "markdown",
   "metadata": {},
   "source": [
    "### Widgets imports"
   ]
  },
  {
   "cell_type": "code",
   "execution_count": 3,
   "metadata": {},
   "outputs": [],
   "source": [
    "from ipywidgets import widgets\n",
    "from functools import partial"
   ]
  },
  {
   "cell_type": "markdown",
   "metadata": {},
   "source": [
    "### MOSEK License imports"
   ]
  },
  {
   "cell_type": "code",
   "execution_count": 4,
   "metadata": {},
   "outputs": [],
   "source": [
    "import os\n",
    "from pydrake.solvers import MosekSolver, CommonSolverOption, SolverOptions, ScsSolver\n",
    "from pydrake.common import Parallelism\n"
   ]
  },
  {
   "cell_type": "markdown",
   "metadata": {},
   "source": [
    "## Set up the scene"
   ]
  },
  {
   "cell_type": "code",
   "execution_count": 6,
   "metadata": {},
   "outputs": [
    {
     "name": "stderr",
     "output_type": "stream",
     "text": [
      "INFO:drake:Meshcat listening for connections at http://localhost:7004\n",
      "INFO:drake:Meshcat listening for connections at http://localhost:7005\n"
     ]
    },
    {
     "name": "stdout",
     "output_type": "stream",
     "text": [
      "2\n"
     ]
    }
   ],
   "source": [
    "# meshcat = StartMeshcat()\n",
    "builder = DiagramBuilder()\n",
    "plant, scene_graph = AddMultibodyPlantSceneGraph(builder, time_step=0.0)\n",
    "parser = Parser(plant, scene_graph)\n",
    "parser.SetAutoRenaming(True)\n",
    "\n",
    "# Add the robot\n",
    "gripper = parser.AddModels(file_name=\"my_sdfs/wsg_1dof.sdf\")[0]\n",
    "cap = parser.AddModels(file_name=\"my_sdfs/bottle_cap.sdf\")[0]\n",
    "\n",
    "# Set welds\n",
    "plant.WeldFrames(\n",
    "    plant.world_frame(), \n",
    "    plant.GetFrameByName(\"base_link\", cap),\n",
    "    RigidTransform(RotationMatrix(), [0, 0, 0]))\n",
    "\n",
    "p_GgraspO = [0, 0, .065]\n",
    "R_GgraspO = RotationMatrix.MakeXRotation(-np.pi / 2)\n",
    "plant.WeldFrames(\n",
    "    plant.world_frame(),\n",
    "    plant.GetFrameByName(\"base_wsg\", gripper),\n",
    "    RigidTransform(R_GgraspO, p_GgraspO))\n",
    "\n",
    "\n",
    "plant.Finalize()\n",
    "\n",
    "# Release collision constraints\n",
    "inspector = scene_graph.model_inspector()\n",
    "\n",
    "# Penetration allowed between gripper and cap\n",
    "\n",
    "# Gripper inner collision\n",
    "# gripper_geometries = GeometrySet()\n",
    "# for i in range(len(plant.GetBodyIndices(gripper))):\n",
    "#     body_index = plant.GetBodyIndices(gripper)[i]\n",
    "#     body_geometries = inspector.GetGeometries(\n",
    "#         plant.GetBodyFrameIdOrThrow(body_index))\n",
    "#     gripper_geometries.Add(geometry_ids=body_geometries)\n",
    "# scene_graph.collision_filter_manager().Apply(\n",
    "#     CollisionFilterDeclaration().ExcludeWithin(gripper_geometries))\n",
    "\n",
    "# # Gripper and cap collision\n",
    "# cap_geometries = GeometrySet()\n",
    "# for i in range(len(plant.GetBodyIndices(cap))):\n",
    "#     body_index = plant.GetBodyIndices(cap)[i]\n",
    "#     body_geometries = inspector.GetGeometries(\n",
    "#         plant.GetBodyFrameIdOrThrow(body_index))\n",
    "#     cap_geometries.Add(geometry_ids=body_geometries)\n",
    "# scene_graph.collision_filter_manager().Apply(\n",
    "#     CollisionFilterDeclaration().ExcludeWithin(cap_geometries))\n",
    "\n",
    "\n",
    "# TODO: This will consider the gripper touching the cap as a collision. \n",
    "# TODO: Figure out if needs change or adjustment later in grasping space.\n",
    "\n",
    "\n",
    "# Add visualization\n",
    "meshcat_params = MeshcatVisualizerParams()\n",
    "meshcat_params.role = Role.kIllustration\n",
    "\n",
    "# visualizer = MeshcatVisualizer.AddToBuilder(\n",
    "#     builder,\n",
    "#     scene_graph,\n",
    "#     meshcat,\n",
    "#     meshcat_params)\n",
    "\n",
    "# meshcat.SetProperty(\"/Background\", \"top_color\", [0.8, 0.8, 0.6])\n",
    "# meshcat.SetProperty(\"/Background\", \"bottom_color\", [0.9, 0.9, 0.9])\n",
    "\n",
    "\n",
    "# diagram = builder.Build()\n",
    "\n",
    "# # Context\n",
    "# diagram_context = diagram.CreateDefaultContext()\n",
    "# plant_context = plant.GetMyContextFromRoot(diagram_context)\n",
    "# scene_graph_context = scene_graph.GetMyMutableContextFromRoot(diagram_context)\n",
    "\n",
    "# diagram.ForcedPublish(diagram_context)\n",
    "\n",
    "# TCspace\n",
    "Rat_FK = RationalForwardKinematics(plant)\n",
    "\n",
    "q_star = np.zeros(plant.num_positions())\n",
    "\n",
    "# Create the TCspaceFreePolytopes\n",
    "cspace_free_polytope = CspaceFreePolytope(\n",
    "    plant, \n",
    "    scene_graph,\n",
    "    SeparatingPlaneOrder.kAffine,\n",
    "    q_star)\n",
    "\n",
    "print(plant.num_positions())\n",
    "\n",
    "\n",
    "visualizer = CIrisPlantVisualizer(\n",
    "    plant,\n",
    "    builder,\n",
    "    scene_graph,\n",
    "    cspace_free_polytope,\n",
    "    viz_role=Role.kIllustration\n",
    ")\n",
    "\n",
    "plant_context = visualizer.plant_context\n",
    "diagram = visualizer.task_space_diagram\n",
    "diagram_context = visualizer.task_space_diagram_context\n",
    "\n",
    "# Set initial configuration\n",
    "plant.GetJointByName(\"left_finger_sliding_joint\", gripper).set_translation(\n",
    "    plant_context, -0.025\n",
    ")\n",
    "# # plant.GetJointByName(\"right_finger_sliding_joint\", gripper).set_translation(\n",
    "# #     plant_context, 0.025\n",
    "# # )\n",
    "\n",
    "visualizer.visualize_collision_constraint(factor = 2, num_points=100)#N=50, iso_surface = 0.5, wireframe = True)\n",
    "visualizer.meshcat_cspace.Set2dRenderMode(RigidTransform(RotationMatrix.MakeZRotation(np.pi/2), np.array([0,0,1])))"
   ]
  },
  {
   "cell_type": "markdown",
   "metadata": {},
   "source": [
    "## Set up the sliders so we can move the plant around manually\n",
    "\n",
    "You can use the sliders below to move the three degrees of freedom of the plant around. A green dot will appear in the TC-space visualization describing the current TC-space configuration."
   ]
  },
  {
   "cell_type": "code",
   "execution_count": 7,
   "metadata": {},
   "outputs": [
    {
     "data": {
      "application/vnd.jupyter.widget-view+json": {
       "model_id": "a268a172086c4342a5c0caa1c8364cf1",
       "version_major": 2,
       "version_minor": 0
      },
      "text/plain": [
       "FloatSlider(value=0.0, description='q0', max=3.14, min=-3.14, step=0.06280000000000001)"
      ]
     },
     "metadata": {},
     "output_type": "display_data"
    },
    {
     "data": {
      "application/vnd.jupyter.widget-view+json": {
       "model_id": "985801585d474c70bd680c6fb293e986",
       "version_major": 2,
       "version_minor": 0
      },
      "text/plain": [
       "FloatSlider(value=0.0, description='q1', max=0.0, min=-0.055, step=0.00055)"
      ]
     },
     "metadata": {},
     "output_type": "display_data"
    },
    {
     "name": "stdout",
     "output_type": "stream",
     "text": [
      "1.0\n",
      "1.0\n",
      "1.0\n",
      "1.0\n",
      "1.0\n",
      "1.0\n",
      "1.0\n",
      "1.0\n",
      "1.0\n",
      "1.0\n",
      "1.0\n",
      "1.0\n",
      "1.0\n",
      "1.0\n",
      "1.0\n",
      "1.0\n",
      "1.0\n",
      "0.0\n",
      "0.0\n",
      "0.0\n",
      "0.0\n",
      "0.0\n",
      "0.0\n"
     ]
    }
   ],
   "source": [
    "sliders = []\n",
    "\n",
    "for i in range(plant.num_positions()):\n",
    "    q_low = plant.GetPositionLowerLimits()[i]\n",
    "    q_high = plant.GetPositionUpperLimits()[i]\n",
    "    step = (q_high - q_low) / 100\n",
    "    sliders.append(widgets.FloatSlider(\n",
    "        min=q_low, max=q_high, \n",
    "        value=0, step=step, \n",
    "        description=f\"q{i}\"))\n",
    "    \n",
    "q = np.zeros(plant.num_positions())\n",
    "def handle_slider_change(change, idx):\n",
    "    q[idx] = change['new']\n",
    "    print(visualizer.check_collision_q_by_ik(q))\n",
    "    plant.SetPositions(plant_context, q)\n",
    "    diagram.ForcedPublish(diagram_context)\n",
    "    \n",
    "idx = 0\n",
    "for slider in sliders:\n",
    "    slider.observe(partial(handle_slider_change, idx = idx), names='value')\n",
    "    idx+=1\n",
    "\n",
    "for slider in sliders:\n",
    "    display(slider)"
   ]
  },
  {
   "cell_type": "markdown",
   "metadata": {},
   "source": [
    "## Set up the solver for certifying the region. \n",
    "\n",
    "It is **very** important that you upload a MOSEK license into the file `mosek.lic` in order to run the rest of the notebook. If you do not, the solver `SCS` will be used which is much slower and likely will be too inaccurate to solve many of the problems."
   ]
  },
  {
   "cell_type": "code",
   "execution_count": null,
   "metadata": {},
   "outputs": [],
   "source": [
    "import warnings\n",
    "from pydrake.common.deprecation import DrakeDeprecationWarning\n",
    "\n",
    "# os.environ[\"MOSEKLM_LICENSE_FILE\"] = \"mosek.lic\"\n",
    "with open(\"mosec.lic\", 'r') as f:\n",
    "    contents = f.read()\n",
    "    mosek_file_not_empty = contents != ''\n",
    "print(mosek_file_not_empty)\n",
    "\n",
    "solver_id = MosekSolver.id() if MosekSolver().available() and mosek_file_not_empty else ScsSolver.id()\n",
    "\n",
    "\n",
    "# set up the certifier and the options for different search techniques\n",
    "solver_options = SolverOptions()\n",
    "# set this to 1 if you would like to see the solver output in terminal.\n",
    "solver_options.SetOption(CommonSolverOption.kPrintToConsole, 0)\n",
    "\n",
    "# The options for when we search for new planes and positivity certificates given the polytopes\n",
    "find_separation_certificate_given_polytope_options = CspaceFreePolytope.FindSeparationCertificateGivenPolytopeOptions()\n",
    "find_separation_certificate_given_polytope_options.parallelism = Parallelism()\n",
    "find_separation_certificate_given_polytope_options.verbose = False\n",
    "find_separation_certificate_given_polytope_options.solver_options = solver_options\n",
    "find_separation_certificate_given_polytope_options.ignore_redundant_C = False\n",
    "find_separation_certificate_given_polytope_options.solver_id = solver_id\n",
    "\n",
    "# The options for when we search for a new polytope given positivity certificates.\n",
    "find_polytope_given_lagrangian_option = CspaceFreePolytope.FindPolytopeGivenLagrangianOptions()\n",
    "find_polytope_given_lagrangian_option.solver_options = solver_options\n",
    "find_polytope_given_lagrangian_option.ellipsoid_margin_cost = CspaceFreePolytope.EllipsoidMarginCost.kGeometricMean\n",
    "find_polytope_given_lagrangian_option.search_s_bounds_lagrangians = True\n",
    "find_polytope_given_lagrangian_option.ellipsoid_margin_epsilon = 1e-4\n",
    "find_polytope_given_lagrangian_option.solver_id = solver_id\n",
    "\n",
    "\n",
    "bilinear_alternation_options = CspaceFreePolytope.BilinearAlternationOptions()\n",
    "bilinear_alternation_options.max_iter = 10\n",
    "bilinear_alternation_options.convergence_tol = 1e-3\n",
    "bilinear_alternation_options.find_polytope_options = find_polytope_given_lagrangian_option\n",
    "\n",
    "binary_search_options = CspaceFreePolytope.BinarySearchOptions()\n",
    "binary_search_options.scale_min = 1e-3\n",
    "binary_search_options.scale_max = 1.0\n",
    "binary_search_options.max_iter = 5"
   ]
  },
  {
   "cell_type": "markdown",
   "metadata": {},
   "source": [
    "## Generate and Certify Regions\n",
    "\n",
    "Around some nominal seed postures, we will grow certified regions using Algorithm 2 which we will later certify."
   ]
  },
  {
   "cell_type": "code",
   "execution_count": null,
   "metadata": {},
   "outputs": [],
   "source": []
  },
  {
   "cell_type": "code",
   "execution_count": null,
   "metadata": {},
   "outputs": [],
   "source": []
  },
  {
   "cell_type": "code",
   "execution_count": null,
   "metadata": {},
   "outputs": [],
   "source": [
    "builder = DiagramBuilder()\n",
    "\n",
    "plant, scene_graph = AddMultibodyPlantSceneGraph(builder, time_step=0.0)\n",
    "parser = Parser(plant, scene_graph)\n",
    "parser.SetAutoRenaming(True)\n",
    "\n",
    "gripper = parser.AddModels(file_name=\"my_sdfs/wsg.sdf\")[0]\n",
    "cap = parser.AddModels(file_name=\"my_sdfs/bottle_cap.sdf\")[0]\n",
    "\n",
    "plant.Finalize()"
   ]
  },
  {
   "cell_type": "code",
   "execution_count": null,
   "metadata": {},
   "outputs": [],
   "source": [
    "B_cap = plant.GetBodyByName(\"cap_link\", cap)\n",
    "B_gripper = plant.GetBodyByName(\"body\", gripper)\n"
   ]
  },
  {
   "cell_type": "code",
   "execution_count": null,
   "metadata": {},
   "outputs": [],
   "source": [
    "meshcat.Delete()\n",
    "meshcat.SetProperty(\"/Background\", \"visible\", False)\n",
    "MeshcatVisualizer.AddToBuilder(builder, scene_graph, meshcat)"
   ]
  },
  {
   "cell_type": "code",
   "execution_count": null,
   "metadata": {},
   "outputs": [],
   "source": [
    "diagram = builder.Build()\n",
    "context = diagram.CreateDefaultContext()\n",
    "plant_context = plant.GetMyContextFromRoot(context)"
   ]
  },
  {
   "cell_type": "code",
   "execution_count": null,
   "metadata": {},
   "outputs": [],
   "source": [
    "world_body = plant.world_body()\n",
    "X_WO = plant.EvalBodyPoseInWorld(plant_context, world_body)\n",
    "\n",
    "p_GgraspO = [0, .115, 0]\n",
    "R_GgraspO = RotationMatrix.MakeXRotation(np.pi / 2).multiply(RotationMatrix.MakeZRotation(np.pi / 2))\n",
    "\n",
    "X_GgraspO = RigidTransform(R_GgraspO, p_GgraspO)\n",
    "X_OGgrasp = X_GgraspO.inverse()\n",
    "X_WGgrasp = X_WO.multiply(X_OGgrasp)\n",
    "\n",
    "plant.SetFreeBodyPose(plant_context, B_gripper, X_WGgrasp)\n",
    "\n",
    "plant.GetJointByName(\"left_finger_sliding_joint\", gripper).set_translation(\n",
    "    plant_context, -0.033\n",
    ")\n",
    "plant.GetJointByName(\"right_finger_sliding_joint\", gripper).set_translation(\n",
    "    plant_context, 0.033\n",
    ")"
   ]
  },
  {
   "cell_type": "code",
   "execution_count": null,
   "metadata": {},
   "outputs": [],
   "source": [
    "diagram.ForcedPublish(context)"
   ]
  },
  {
   "cell_type": "code",
   "execution_count": null,
   "metadata": {},
   "outputs": [],
   "source": []
  },
  {
   "cell_type": "code",
   "execution_count": null,
   "metadata": {},
   "outputs": [],
   "source": []
  }
 ],
 "metadata": {
  "kernelspec": {
   "display_name": "Python 3 (ipykernel)",
   "language": "python",
   "name": "python3"
  },
  "language_info": {
   "codemirror_mode": {
    "name": "ipython",
    "version": 3
   },
   "file_extension": ".py",
   "mimetype": "text/x-python",
   "name": "python",
   "nbconvert_exporter": "python",
   "pygments_lexer": "ipython3",
   "version": "3.10.12"
  }
 },
 "nbformat": 4,
 "nbformat_minor": 2
}
