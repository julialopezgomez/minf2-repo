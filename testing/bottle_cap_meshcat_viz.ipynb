{
 "cells": [
  {
   "cell_type": "markdown",
   "metadata": {},
   "source": [
    "## This notebook visualises a two finger gripper with a simple bottle cap"
   ]
  },
  {
   "cell_type": "code",
   "execution_count": 1,
   "metadata": {},
   "outputs": [],
   "source": [
    "import numpy as np\n",
    "from pydrake.multibody.plant import AddMultibodyPlantSceneGraph\n",
    "from pydrake.systems.framework import DiagramBuilder\n",
    "from pydrake.geometry import MeshcatVisualizer, StartMeshcat\n",
    "from pydrake.multibody.parsing import Parser\n",
    "from pydrake.math import RigidTransform, RotationMatrix\n",
    "from pydrake.visualization import ApplyVisualizationConfig, VisualizationConfig, AddFrameTriadIllustration\n",
    "from pydrake.all import RobotDiagramBuilder"
   ]
  },
  {
   "cell_type": "code",
   "execution_count": 3,
   "metadata": {},
   "outputs": [
    {
     "name": "stderr",
     "output_type": "stream",
     "text": [
      "INFO:drake:Meshcat listening for connections at http://localhost:7003\n"
     ]
    }
   ],
   "source": [
    "# Start the visualizer.\n",
    "meshcat = StartMeshcat()"
   ]
  },
  {
   "cell_type": "code",
   "execution_count": 63,
   "metadata": {},
   "outputs": [],
   "source": [
    "builder = DiagramBuilder()\n",
    "\n",
    "plant, scene_graph = AddMultibodyPlantSceneGraph(builder, time_step=0.0)\n",
    "parser = Parser(plant, scene_graph)\n",
    "parser.SetAutoRenaming(True)\n",
    "\n",
    "gripper = parser.AddModels(file_name=\"my_sdfs/wsg.sdf\")[0]\n",
    "cap = parser.AddModels(file_name=\"my_sdfs/bottle_cap.sdf\")[0]\n",
    "obstacle1 = parser.AddModels(file_name=\"my_sdfs/obstacle.sdf\")[0]\n",
    "obstacle2 = parser.AddModels(file_name=\"my_sdfs/obstacle.sdf\")[0]\n",
    "\n",
    "# Set welds\n",
    "plant.WeldFrames(\n",
    "    plant.world_frame(), \n",
    "    plant.GetFrameByName(\"base_link\", cap),\n",
    "    RigidTransform(RotationMatrix(), [0, 0, 0]))\n",
    "\n",
    "# Weld the obstacle to the world frame (adjust pose as needed)\n",
    "obstacle_pose1 = RigidTransform(RotationMatrix(), [0.01, 0.035, 0.02])  # Adjust position\n",
    "plant.WeldFrames(\n",
    "    plant.world_frame(),\n",
    "    plant.GetFrameByName(\"obstacle_link\", obstacle1),\n",
    "    obstacle_pose1)\n",
    "\n",
    "obstacle_pose2 = RigidTransform(RotationMatrix(), [-0.035, -0.005, 0.02])  # Adjust position\n",
    "plant.WeldFrames(\n",
    "    plant.world_frame(),\n",
    "    plant.GetFrameByName(\"obstacle_link\", obstacle2),\n",
    "    obstacle_pose2)\n",
    "\n",
    "p_GgraspO = [0, 0, .065]\n",
    "R_GgraspO = RotationMatrix.MakeXRotation(-np.pi / 2)\n",
    "plant.WeldFrames(\n",
    "    plant.world_frame(),\n",
    "    plant.GetFrameByName(\"base_wsg\", gripper),\n",
    "    RigidTransform(R_GgraspO, p_GgraspO))\n",
    "\n",
    "# Fix right finger to left finger\n",
    "right_finger_joint = plant.GetJointByName(\"right_finger_sliding_joint\", gripper)\n",
    "left_finger_joint = plant.GetJointByName(\"left_finger_sliding_joint\", gripper)\n",
    "\n",
    "# Set default joint translation to 0.025\n",
    "right_finger_joint.set_default_translation(0.025)\n",
    "left_finger_joint.set_default_translation(-0.025)\n",
    "\n",
    "plant.Finalize()"
   ]
  },
  {
   "cell_type": "code",
   "execution_count": 64,
   "metadata": {},
   "outputs": [],
   "source": [
    "B_cap = plant.GetBodyByName(\"cap_link\", cap)\n",
    "B_gripper = plant.GetBodyByName(\"body\", gripper)\n",
    "B_finger = plant.GetBodyByName(\"left_finger\", gripper)\n",
    "\n",
    "\n",
    "# AddFrameTriadIllustration(\n",
    "#     plant=plant,\n",
    "#     scene_graph=scene_graph,\n",
    "#     body=B_cap,\n",
    "#     length=0.06\n",
    "# )\n",
    "\n",
    "# AddFrameTriadIllustration(\n",
    "#     plant=plant,\n",
    "#     scene_graph=scene_graph,\n",
    "#     body=B_gripper,\n",
    "#     length=0.10\n",
    "# )\n",
    "\n"
   ]
  },
  {
   "cell_type": "code",
   "execution_count": 65,
   "metadata": {},
   "outputs": [
    {
     "data": {
      "text/plain": [
       "<pydrake.geometry.MeshcatVisualizer at 0x7f19515136f0>"
      ]
     },
     "execution_count": 65,
     "metadata": {},
     "output_type": "execute_result"
    }
   ],
   "source": [
    "meshcat.Delete()\n",
    "meshcat.SetProperty(\"/Background\", \"visible\", False)\n",
    "MeshcatVisualizer.AddToBuilder(builder, scene_graph, meshcat)"
   ]
  },
  {
   "cell_type": "code",
   "execution_count": 66,
   "metadata": {},
   "outputs": [],
   "source": [
    "diagram = builder.Build()\n",
    "context = diagram.CreateDefaultContext()\n",
    "plant_context = plant.GetMyContextFromRoot(context)"
   ]
  },
  {
   "cell_type": "code",
   "execution_count": 67,
   "metadata": {},
   "outputs": [
    {
     "data": {
      "text/plain": [
       "<PrismaticJoint name='right_finger_sliding_joint' index=1 model_instance=2>"
      ]
     },
     "execution_count": 67,
     "metadata": {},
     "output_type": "execute_result"
    }
   ],
   "source": [
    "world_body = plant.world_body()\n",
    "X_WO = plant.EvalBodyPoseInWorld(plant_context, world_body)\n",
    "\n",
    "p_GgraspO = [0, .115, 0]\n",
    "R_GgraspO = RotationMatrix.MakeXRotation(np.pi / 2).multiply(RotationMatrix.MakeZRotation(np.pi / 4))\n",
    "\n",
    "X_GgraspO = RigidTransform(R_GgraspO, p_GgraspO)\n",
    "X_OGgrasp = X_GgraspO.inverse()\n",
    "X_WGgrasp = X_WO.multiply(X_OGgrasp)\n",
    "\n",
    "plant.SetFreeBodyPose(plant_context, B_gripper, X_WGgrasp)\n",
    "\n",
    "plant.GetJointByName(\"left_finger_sliding_joint\", gripper).set_translation(\n",
    "    plant_context, -0.033\n",
    ")\n",
    "plant.GetJointByName(\"right_finger_sliding_joint\", gripper).set_translation(\n",
    "    plant_context, 0.033\n",
    ")"
   ]
  },
  {
   "cell_type": "code",
   "execution_count": 62,
   "metadata": {},
   "outputs": [],
   "source": [
    "diagram.ForcedPublish(context)"
   ]
  },
  {
   "cell_type": "code",
   "execution_count": null,
   "metadata": {},
   "outputs": [],
   "source": []
  },
  {
   "cell_type": "code",
   "execution_count": null,
   "metadata": {},
   "outputs": [],
   "source": []
  }
 ],
 "metadata": {
  "kernelspec": {
   "display_name": "Python 3",
   "language": "python",
   "name": "python3"
  },
  "language_info": {
   "codemirror_mode": {
    "name": "ipython",
    "version": 3
   },
   "file_extension": ".py",
   "mimetype": "text/x-python",
   "name": "python",
   "nbconvert_exporter": "python",
   "pygments_lexer": "ipython3",
   "version": "3.10.12"
  }
 },
 "nbformat": 4,
 "nbformat_minor": 2
}
