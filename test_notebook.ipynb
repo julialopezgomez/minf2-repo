{
 "cells": [
  {
   "cell_type": "code",
   "execution_count": 1,
   "metadata": {},
   "outputs": [
    {
     "ename": "ModuleNotFoundError",
     "evalue": "No module named 'pydrake'",
     "output_type": "error",
     "traceback": [
      "\u001b[0;31m---------------------------------------------------------------------------\u001b[0m",
      "\u001b[0;31mModuleNotFoundError\u001b[0m                       Traceback (most recent call last)",
      "Cell \u001b[0;32mIn[1], line 2\u001b[0m\n\u001b[1;32m      1\u001b[0m \u001b[38;5;66;03m# If the installation works, this should print with no errors.\u001b[39;00m\n\u001b[0;32m----> 2\u001b[0m \u001b[38;5;28;01mimport\u001b[39;00m \u001b[38;5;21;01mpydrake\u001b[39;00m\u001b[38;5;21;01m.\u001b[39;00m\u001b[38;5;21;01mall\u001b[39;00m; \u001b[38;5;28mprint\u001b[39m(pydrake\u001b[38;5;241m.\u001b[39m\u001b[38;5;18m__file__\u001b[39m)\n",
      "\u001b[0;31mModuleNotFoundError\u001b[0m: No module named 'pydrake'"
     ]
    }
   ],
   "source": [
    "# If the installation works, this should print with no errors.\n",
    "import pydrake.all; print(pydrake.__file__)"
   ]
  },
  {
   "cell_type": "code",
   "execution_count": 2,
   "metadata": {},
   "outputs": [],
   "source": [
    "# from pydrake.all import Parser, PackageMap, MultibodyPlant\n",
    "\n",
    "# # Create a dummy MultibodyPlant and initialize a Parser\n",
    "# plant = MultibodyPlant(time_step=0.001)\n",
    "# parser = Parser(plant)\n",
    "\n",
    "# # Get the PackageMap instance\n",
    "# package_map = parser.package_map()\n",
    "\n",
    "# # List all package mappings\n",
    "# for package_name in package_map.GetPackageNames():\n",
    "#     print(f\"Package: {package_name}, Path: {package_map.GetPath(package_name)}\")"
   ]
  },
  {
   "cell_type": "code",
   "execution_count": 3,
   "metadata": {},
   "outputs": [],
   "source": [
    "# from pydrake.all import Parser, PackageMap, MultibodyPlant\n",
    "\n",
    "# # Create a dummy MultibodyPlant and initialize a Parser\n",
    "# plant = MultibodyPlant(time_step=0.001)\n",
    "# parser = Parser(plant)\n",
    "\n",
    "# # Access the PackageMap\n",
    "# package_map = parser.package_map()\n",
    "\n",
    "# # Check if the package is available\n",
    "# if \"drake_models\" in package_map.GetPackageNames():\n",
    "#     print(\"Package is registered!\")\n",
    "#     print(f\"Path: {package_map.GetPath('drake_models')}\")\n",
    "# else:\n",
    "#     print(\"Package is not registered.\")"
   ]
  },
  {
   "cell_type": "code",
   "execution_count": null,
   "metadata": {},
   "outputs": [],
   "source": []
  }
 ],
 "metadata": {
  "kernelspec": {
   "display_name": "minf2",
   "language": "python",
   "name": "python3"
  },
  "language_info": {
   "codemirror_mode": {
    "name": "ipython",
    "version": 3
   },
   "file_extension": ".py",
   "mimetype": "text/x-python",
   "name": "python",
   "nbconvert_exporter": "python",
   "pygments_lexer": "ipython3",
   "version": "3.12.6"
  }
 },
 "nbformat": 4,
 "nbformat_minor": 2
}
