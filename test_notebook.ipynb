{
 "cells": [
  {
   "cell_type": "code",
   "execution_count": 1,
   "metadata": {},
   "outputs": [
    {
     "name": "stdout",
     "output_type": "stream",
     "text": [
      "/opt/drake/lib/python3.10/site-packages/pydrake/__init__.py\n"
     ]
    }
   ],
   "source": [
    "# If the installation works, this should print with no errors.\n",
    "import pydrake.all; print(pydrake.__file__)"
   ]
  },
  {
   "cell_type": "code",
   "execution_count": 2,
   "metadata": {},
   "outputs": [
    {
     "name": "stdout",
     "output_type": "stream",
     "text": [
      "Package: drake, Path: /opt/drake/lib/python3.10/site-packages/pydrake/common/../../../../../share/drake\n",
      "Package: drake_models, Path: /root/.cache/drake/package_map/49284e3afc7c6ccd80b0c605f070c53ef0bb5d1d96330cf15e87c68d804e78a8-178578bad0b90f28768b2e80f2688fa778c9eaa6a5b44b1043272622f95ec888\n"
     ]
    }
   ],
   "source": [
    "# from pydrake.all import Parser, PackageMap, MultibodyPlant\n",
    "\n",
    "# # Create a dummy MultibodyPlant and initialize a Parser\n",
    "# plant = MultibodyPlant(time_step=0.001)\n",
    "# parser = Parser(plant)\n",
    "\n",
    "# # Get the PackageMap instance\n",
    "# package_map = parser.package_map()\n",
    "\n",
    "# # List all package mappings\n",
    "# for package_name in package_map.GetPackageNames():\n",
    "#     print(f\"Package: {package_name}, Path: {package_map.GetPath(package_name)}\")"
   ]
  },
  {
   "cell_type": "code",
   "execution_count": 3,
   "metadata": {},
   "outputs": [
    {
     "name": "stdout",
     "output_type": "stream",
     "text": [
      "Package is registered!\n",
      "Path: /root/.cache/drake/package_map/49284e3afc7c6ccd80b0c605f070c53ef0bb5d1d96330cf15e87c68d804e78a8-178578bad0b90f28768b2e80f2688fa778c9eaa6a5b44b1043272622f95ec888\n"
     ]
    }
   ],
   "source": [
    "# from pydrake.all import Parser, PackageMap, MultibodyPlant\n",
    "\n",
    "# # Create a dummy MultibodyPlant and initialize a Parser\n",
    "# plant = MultibodyPlant(time_step=0.001)\n",
    "# parser = Parser(plant)\n",
    "\n",
    "# # Access the PackageMap\n",
    "# package_map = parser.package_map()\n",
    "\n",
    "# # Check if the package is available\n",
    "# if \"drake_models\" in package_map.GetPackageNames():\n",
    "#     print(\"Package is registered!\")\n",
    "#     print(f\"Path: {package_map.GetPath('drake_models')}\")\n",
    "# else:\n",
    "#     print(\"Package is not registered.\")"
   ]
  },
  {
   "cell_type": "code",
   "execution_count": null,
   "metadata": {},
   "outputs": [],
   "source": []
  }
 ],
 "metadata": {
  "kernelspec": {
   "display_name": "minf2",
   "language": "python",
   "name": "python3"
  },
  "language_info": {
   "codemirror_mode": {
    "name": "ipython",
    "version": 3
   },
   "file_extension": ".py",
   "mimetype": "text/x-python",
   "name": "python",
   "nbconvert_exporter": "python",
   "pygments_lexer": "ipython3",
   "version": "3.10.12"
  }
 },
 "nbformat": 4,
 "nbformat_minor": 2
}
